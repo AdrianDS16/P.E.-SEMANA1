{
 "cells": [
  {
   "cell_type": "code",
   "execution_count": 13,
   "id": "f089d3f0",
   "metadata": {},
   "outputs": [],
   "source": [
    "import pandas as pd\n",
    "import numpy as np\n",
    "import matplotlib.pyplot as plt"
   ]
  },
  {
   "cell_type": "code",
   "execution_count": 5,
   "id": "c0cfbecb",
   "metadata": {},
   "outputs": [
    {
     "data": {
      "text/html": [
       "<div>\n",
       "<style scoped>\n",
       "    .dataframe tbody tr th:only-of-type {\n",
       "        vertical-align: middle;\n",
       "    }\n",
       "\n",
       "    .dataframe tbody tr th {\n",
       "        vertical-align: top;\n",
       "    }\n",
       "\n",
       "    .dataframe thead th {\n",
       "        text-align: right;\n",
       "    }\n",
       "</style>\n",
       "<table border=\"1\" class=\"dataframe\">\n",
       "  <thead>\n",
       "    <tr style=\"text-align: right;\">\n",
       "      <th></th>\n",
       "      <th>Mese</th>\n",
       "      <th>Cupcake</th>\n",
       "    </tr>\n",
       "  </thead>\n",
       "  <tbody>\n",
       "    <tr>\n",
       "      <th>0</th>\n",
       "      <td>2004-01</td>\n",
       "      <td>5</td>\n",
       "    </tr>\n",
       "    <tr>\n",
       "      <th>1</th>\n",
       "      <td>2004-02</td>\n",
       "      <td>5</td>\n",
       "    </tr>\n",
       "    <tr>\n",
       "      <th>2</th>\n",
       "      <td>2004-03</td>\n",
       "      <td>4</td>\n",
       "    </tr>\n",
       "    <tr>\n",
       "      <th>3</th>\n",
       "      <td>2004-04</td>\n",
       "      <td>6</td>\n",
       "    </tr>\n",
       "    <tr>\n",
       "      <th>4</th>\n",
       "      <td>2004-05</td>\n",
       "      <td>5</td>\n",
       "    </tr>\n",
       "  </tbody>\n",
       "</table>\n",
       "</div>"
      ],
      "text/plain": [
       "      Mese  Cupcake\n",
       "0  2004-01        5\n",
       "1  2004-02        5\n",
       "2  2004-03        4\n",
       "3  2004-04        6\n",
       "4  2004-05        5"
      ]
     },
     "execution_count": 5,
     "metadata": {},
     "output_type": "execute_result"
    }
   ],
   "source": [
    "df = pd.read_csv(\"cupcake.csv\")\n",
    "df.head(5)"
   ]
  },
  {
   "cell_type": "code",
   "execution_count": 6,
   "id": "b2bca2bb",
   "metadata": {},
   "outputs": [
    {
     "name": "stdout",
     "output_type": "stream",
     "text": [
      "4\n",
      "100\n"
     ]
    }
   ],
   "source": [
    "min_value = df[\"Cupcake\"].min()\n",
    "max_value = df[\"Cupcake\"].max()\n",
    "print(min_value)\n",
    "print(max_value)\n"
   ]
  },
  {
   "cell_type": "code",
   "execution_count": 9,
   "id": "951bf46b",
   "metadata": {},
   "outputs": [
    {
     "data": {
      "text/plain": [
       "array([  4.,  36.,  68., 100.])"
      ]
     },
     "execution_count": 9,
     "metadata": {},
     "output_type": "execute_result"
    }
   ],
   "source": [
    "categorias = np.linspace(min_value,max_value,4)\n",
    "categorias"
   ]
  },
  {
   "cell_type": "code",
   "execution_count": 10,
   "id": "30f14994",
   "metadata": {},
   "outputs": [],
   "source": [
    "etiquetas = [\"pequeño\", \"mediano\", \"grande\"]"
   ]
  },
  {
   "cell_type": "code",
   "execution_count": 12,
   "id": "b25858a2",
   "metadata": {},
   "outputs": [],
   "source": [
    "df['contenedores'] = pd.cut(df['Cupcake'], bins=categorias, labels=etiquetas, include_lowest=True)"
   ]
  },
  {
   "cell_type": "code",
   "execution_count": 15,
   "id": "7c1db132",
   "metadata": {},
   "outputs": [
    {
     "data": {
      "text/plain": [
       "(array([68., 74., 62.]),\n",
       " array([0.        , 0.66666667, 1.33333333, 2.        ]),\n",
       " <BarContainer object of 3 artists>)"
      ]
     },
     "execution_count": 15,
     "metadata": {},
     "output_type": "execute_result"
    },
    {
     "data": {
      "image/png": "[encoded data removed]",
      "text/plain": [
       "<Figure size 432x288 with 1 Axes>"
      ]
     },
     "metadata": {
      "needs_background": "light"
     },
     "output_type": "display_data"
    }
   ],
   "source": [
    "plt.hist(df['contenedores'], bins=3)"
   ]
  },
  {
   "cell_type": "code",
   "execution_count": 17,
   "id": "e405228f",
   "metadata": {},
   "outputs": [
    {
     "data": {
      "image/png": "[encoded data removed]",
      "text/plain": [
       "<Figure size 432x288 with 1 Axes>"
      ]
     },
     "metadata": {
      "needs_background": "light"
     },
     "output_type": "display_data"
    }
   ],
   "source": [
    "bins = [ 0, 10, 50, 100 ]\n",
    "df['bin_cut_manual'] = pd.cut(df['Cupcake'] , bins=bins, labels=etiquetas, include_lowest=True)\n",
    "plt.hist(df['bin_cut_manual'], bins=3)\n",
    "plt.show()"
   ]
  },
  {
   "cell_type": "code",
   "execution_count": 20,
   "id": "66ee037a",
   "metadata": {},
   "outputs": [
    {
     "data": {
      "image/png": "[encoded data removed]",
      "text/plain": [
       "<Figure size 432x288 with 1 Axes>"
      ]
     },
     "metadata": {
      "needs_background": "light"
     },
     "output_type": "display_data"
    }
   ],
   "source": [
    "df['bin_qcut'] = pd.qcut(df['Cupcake'], q=3, precision=1, labels=etiquetas)\n",
    "plt.hist(df['bin_qcut'], bins=3)\n",
    "plt.show()"
   ]
  },
  {
   "cell_type": "code",
   "execution_count": 21,
   "id": "ad070ae5",
   "metadata": {},
   "outputs": [],
   "source": [
    "from scipy.stats import binned_statistic\n",
    "x_data = np.arange(0, len(df))\n",
    "y_data = df['Cupcake']\n",
    "x_bins,bin_edges, misc = binned_statistic(y_data,x_data, statistic=\"median\", bins=2)"
   ]
  },
  {
   "cell_type": "code",
   "execution_count": 22,
   "id": "38f68dc2",
   "metadata": {},
   "outputs": [],
   "source": [
    "bin_intervals = pd.IntervalIndex.from_arrays(bin_edges[:-1], bin_edges[1:])"
   ]
  },
  {
   "cell_type": "code",
   "execution_count": 23,
   "id": "a40cef00",
   "metadata": {},
   "outputs": [],
   "source": [
    "def set_to_median(x, bin_intervals):\n",
    "    for interval in bin_intervals:\n",
    "        if x in interval:\n",
    "            return interval.mid"
   ]
  },
  {
   "cell_type": "code",
   "execution_count": 24,
   "id": "9c19afc3",
   "metadata": {},
   "outputs": [],
   "source": [
    "df['sampled_cupcake'] = df['Cupcake'].apply(lambda x: set_to_median(x, bin_intervals))"
   ]
  },
  {
   "cell_type": "code",
   "execution_count": 25,
   "id": "7bc32028",
   "metadata": {},
   "outputs": [
    {
     "data": {
      "image/png": "[encoded data removed]",
      "text/plain": [
       "<Figure size 432x288 with 1 Axes>"
      ]
     },
     "metadata": {
      "needs_background": "light"
     },
     "output_type": "display_data"
    }
   ],
   "source": [
    "plt.plot(df['Cupcake'], label='original')\n",
    "plt.plot(df['sampled_cupcake'], color='red', label='sampled')\n",
    "plt.legend()\n",
    "plt.show()"
   ]
  },
  {
   "cell_type": "code",
   "execution_count": 26,
   "id": "e65f9c44",
   "metadata": {},
   "outputs": [
    {
     "data": {
      "text/plain": [
       "array([28., 76.])"
      ]
     },
     "execution_count": 26,
     "metadata": {},
     "output_type": "execute_result"
    }
   ],
   "source": [
    "y_bins = (bin_edges[:-1]+bin_edges[1:])/2\n",
    "y_bins"
   ]
  },
  {
   "cell_type": "code",
   "execution_count": 27,
   "id": "28083bf8",
   "metadata": {},
   "outputs": [
    {
     "data": {
      "image/png": "[encoded data removed]",
      "text/plain": [
       "<Figure size 432x288 with 1 Axes>"
      ]
     },
     "metadata": {
      "needs_background": "light"
     },
     "output_type": "display_data"
    }
   ],
   "source": [
    "plt.plot(x_data,y_data)\n",
    "plt.xlabel(\"X\"); \n",
    "plt.ylabel(\"Y\")\n",
    "plt.scatter(x_bins, y_bins,  color= 'red',linewidth=5)\n",
    "plt.show()"
   ]
  },
  {
   "cell_type": "code",
   "execution_count": null,
   "id": "1a74c7b2",
   "metadata": {},
   "outputs": [],
   "source": [
    "conda install -c conda-forge jenkspy"
   ]
  },
  {
   "cell_type": "code",
   "execution_count": null,
   "id": "63887bfa",
   "metadata": {},
   "outputs": [],
   "source": [
    "import jenkspy\n",
    "breaks = jenkspy.jenks_breaks(df['Cupcake'], nb_class=3)"
   ]
  },
  {
   "cell_type": "code",
   "execution_count": null,
   "id": "a24e550a",
   "metadata": {},
   "outputs": [],
   "source": [
    "df['bin_cut_break'] = pd.cut(df['Cupcake'] , bins=breaks, labels=etiquetas, include_lowest=True)"
   ]
  },
  {
   "cell_type": "code",
   "execution_count": null,
   "id": "30124bf8",
   "metadata": {},
   "outputs": [],
   "source": []
  }
 ],
 "metadata": {
  "kernelspec": {
   "display_name": "Python 3 (ipykernel)",
   "language": "python",
   "name": "python3"
  },
  "language_info": {
   "codemirror_mode": {
    "name": "ipython",
    "version": 3
   },
   "file_extension": ".py",
   "mimetype": "text/x-python",
   "name": "python",
   "nbconvert_exporter": "python",
   "pygments_lexer": "ipython3",
   "version": "3.9.12"
  }
 },
 "nbformat": 4,
 "nbformat_minor": 5
}
